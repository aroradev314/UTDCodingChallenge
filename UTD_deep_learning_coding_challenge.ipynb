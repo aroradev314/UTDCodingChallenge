{
 "cells": [
  {
   "cell_type": "code",
   "execution_count": 49,
   "id": "ade97895",
   "metadata": {},
   "outputs": [],
   "source": [
    "import torch\n",
    "from matplotlib import pyplot as plt\n",
    "import torch\n",
    "from torch import nn\n",
    "from torch.utils.data import DataLoader, Dataset\n",
    "from sklearn.model_selection import train_test_split\n",
    "import os\n",
    "from PIL import Image\n",
    "import numpy as np\n",
    "import torchsummary\n",
    "from livelossplot import PlotLosses\n",
    "%matplotlib inline"
   ]
  },
  {
   "cell_type": "code",
   "execution_count": 50,
   "id": "f7c266aa",
   "metadata": {},
   "outputs": [
    {
     "name": "stdout",
     "output_type": "stream",
     "text": [
      "Using cpu device\n"
     ]
    }
   ],
   "source": [
    "device = \"cuda\" if torch.cuda.is_available() else \"cpu\"\n",
    "print(f\"Using {device} device\")"
   ]
  },
  {
   "cell_type": "code",
   "execution_count": 51,
   "id": "619e54d1",
   "metadata": {},
   "outputs": [],
   "source": [
    "class Vehicle(Dataset):\n",
    "    def __init__(self, vehicles, labels):\n",
    "        self.vehicles = vehicles\n",
    "        self.labels = labels\n",
    "    \n",
    "    def __len__(self):\n",
    "        return len(self.vehicles)\n",
    "\n",
    "    # required function for accessing data\n",
    "    def __getitem__(self, idx):\n",
    "        return self.vehicles[idx], self.labels[idx]"
   ]
  },
  {
   "cell_type": "code",
   "execution_count": 52,
   "id": "69527c30",
   "metadata": {},
   "outputs": [],
   "source": [
    "root = os.getcwd() # current directory\n",
    "images_directory = os.path.join(root, \"vehicle_classification\")\n",
    "images = []\n",
    "labels = []\n",
    "current_label = 0\n",
    "for label in os.listdir(images_directory): #loop over every class\n",
    "    if not label.startswith('.'): # skip hidden directories\n",
    "        label_directory = os.path.join(images_directory, label)\n",
    "        for pic in os.listdir(label_directory): \n",
    "            image = Image.open(os.path.join(label_directory, pic)) # load the data using the PIL library\n",
    "            image_array = np.array(image)\n",
    "            image_array = np.transpose(image_array, (2, 0, 1)) #make image channels-first, as this is what PyTorch supports\n",
    "            images.append(image_array)\n",
    "            labels.append(current_label)\n",
    "        current_label += 1 \n",
    "images = np.array(images)\n",
    "labels = np.array(labels)\n",
    "classes = np.unique(labels) # list of classes"
   ]
  },
  {
   "cell_type": "code",
   "execution_count": 53,
   "id": "d1d28753",
   "metadata": {},
   "outputs": [
    {
     "name": "stdout",
     "output_type": "stream",
     "text": [
      "There are 26378 images in the dataset\n",
      "Each image has dimensions 64x64\n",
      "The total number of classes is 8\n"
     ]
    }
   ],
   "source": [
    "num_classes = len(classes)\n",
    "image_height, image_length = len(images[0][0]), len(images[0][0][0])\n",
    "print(f\"There are {len(images)} images in the dataset\")\n",
    "print(f\"Each image has dimensions {image_length}x{image_height}\")\n",
    "print(f\"The total number of classes is {num_classes}\")"
   ]
  },
  {
   "cell_type": "code",
   "execution_count": 54,
   "id": "a16434b8",
   "metadata": {},
   "outputs": [],
   "source": [
    "X_train, X_test, y_train, y_test = train_test_split(\n",
    "images, labels, test_size=0.20, random_state=42) #split into random train and test sets\n",
    "X_train = torch.tensor(X_train).to(device)\n",
    "X_test = torch.tensor(X_test).to(device)\n",
    "y_train = torch.tensor(y_train).type(torch.LongTensor).to(device)\n",
    "y_test = torch.tensor(y_test).type(torch.LongTensor).to(device)"
   ]
  },
  {
   "cell_type": "code",
   "execution_count": 55,
   "id": "3c99d3fb",
   "metadata": {},
   "outputs": [],
   "source": [
    "batch_size = 64\n",
    "kernel_size = 3\n",
    "train_dataloader = DataLoader(Vehicle(X_train, y_train), batch_size=batch_size)\n",
    "test_dataloader = DataLoader(Vehicle(X_test, y_test), batch_size=batch_size)"
   ]
  },
  {
   "cell_type": "code",
   "execution_count": 56,
   "id": "172b3cad",
   "metadata": {},
   "outputs": [],
   "source": [
    "class CNN(nn.Module):\n",
    "    def __init__(self):\n",
    "        super().__init__()\n",
    "        modules = []\n",
    "        modules.append(\n",
    "            nn.Conv2d(in_channels=3, out_channels=16, kernel_size=kernel_size, padding='same')) \n",
    "        modules.append(\n",
    "            nn.Dropout(0.5)) # some inputs are randomly dropped\n",
    "        modules.append(\n",
    "            nn.ReLU())\n",
    "        modules.append(\n",
    "            nn.MaxPool2d(kernel_size=kernel_size * 2))\n",
    "        \n",
    "        modules.append(\n",
    "            nn.Conv2d(in_channels=16, out_channels=16, kernel_size=kernel_size, padding='same')) \n",
    "        modules.append(\n",
    "            nn.Dropout(0.5)) # some inputs are randomly dropped\n",
    "        modules.append(\n",
    "            nn.ReLU())\n",
    "        modules.append(\n",
    "            nn.MaxPool2d(kernel_size=kernel_size * 2)) \n",
    "        \n",
    "        modules.append(nn.Flatten())\n",
    "        modules.append(nn.Linear(16, 256)) # dense layer with 256 neurons \n",
    "        modules.append(nn.ReLU())\n",
    "        modules.append(\n",
    "            nn.Linear(256, num_classes))\n",
    "        modules.append(\n",
    "            nn.LogSoftmax(dim=1))\n",
    "    \n",
    "        self.network = nn.Sequential(*modules) # unpack the modules\n",
    "    \n",
    "    # Returns the summary of the model architecture given an input size\n",
    "    def summary(self): \n",
    "        return torchsummary.summary(self, input_size=(3, image_height, image_length))\n",
    "    \n",
    "    def forward(self, x):\n",
    "        prob = self.network(x)\n",
    "        return prob"
   ]
  },
  {
   "cell_type": "code",
   "execution_count": 65,
   "id": "a2317d1f",
   "metadata": {},
   "outputs": [],
   "source": [
    "def train(dataloader, model, loss_fn, optimizer):\n",
    "    size = len(dataloader.dataset)\n",
    "    num_batches = len(dataloader)\n",
    "    model.train()\n",
    "    correct = 0\n",
    "    total_loss = 0\n",
    "    for batch, (X, y) in enumerate(dataloader):\n",
    "        X = X.type(torch.FloatTensor)\n",
    "        # Compute prediction error\n",
    "        pred = model(X).to(device)\n",
    "        loss = loss_fn(pred, y).to(device)\n",
    "        \n",
    "        _, predicted = torch.max(pred.data, 1)\n",
    "        correct += (predicted == y).sum().item()\n",
    "        \n",
    "        # Backpropagation\n",
    "        optimizer.zero_grad()\n",
    "        loss.backward()\n",
    "        optimizer.step()\n",
    "\n",
    "        total_loss += loss.item()\n",
    "            \n",
    "            \n",
    "    accuracy = correct / size\n",
    "    average_loss = total_loss / num_batches # get average loss by dividing sum of losses by total batches\n",
    "    return accuracy, average_loss\n",
    "    "
   ]
  },
  {
   "cell_type": "code",
   "execution_count": 66,
   "id": "fb9bec7c",
   "metadata": {},
   "outputs": [],
   "source": [
    "def test(dataloader, model, loss_fn, ):\n",
    "    size = len(dataloader.dataset)\n",
    "    num_batches = len(dataloader)\n",
    "    model.eval()\n",
    "    correct = 0\n",
    "    total_loss = 0\n",
    "    with torch.no_grad():\n",
    "        for X, y in dataloader:\n",
    "            X = X.type(torch.FloatTensor)\n",
    "            pred = model(X).to(device) # compute the model prediction\n",
    "            \n",
    "            # the predicted class is the one with the highest probability \n",
    "            # in the output distribution\n",
    "            _, predicted = torch.max(pred.data, 1)\n",
    "            correct += (predicted == y).sum().item()\n",
    "            \n",
    "            total_loss += loss_fn(pred, y).to(device).item()\n",
    "            \n",
    "    accuracy = correct / size\n",
    "    average_loss = total_loss / num_batches # get average loss by dividing sum of losses by total batches\n",
    "    \n",
    "    return accuracy, average_loss"
   ]
  },
  {
   "cell_type": "code",
   "execution_count": 67,
   "id": "364f862e",
   "metadata": {
    "scrolled": false
   },
   "outputs": [
    {
     "name": "stdout",
     "output_type": "stream",
     "text": [
      "----------------------------------------------------------------\n",
      "        Layer (type)               Output Shape         Param #\n",
      "================================================================\n",
      "            Conv2d-1           [-1, 16, 64, 64]             448\n",
      "           Dropout-2           [-1, 16, 64, 64]               0\n",
      "              ReLU-3           [-1, 16, 64, 64]               0\n",
      "         MaxPool2d-4           [-1, 16, 10, 10]               0\n",
      "            Conv2d-5           [-1, 16, 10, 10]           2,320\n",
      "           Dropout-6           [-1, 16, 10, 10]               0\n",
      "              ReLU-7           [-1, 16, 10, 10]               0\n",
      "         MaxPool2d-8             [-1, 16, 1, 1]               0\n",
      "           Flatten-9                   [-1, 16]               0\n",
      "           Linear-10                  [-1, 256]           4,352\n",
      "             ReLU-11                  [-1, 256]               0\n",
      "           Linear-12                    [-1, 8]           2,056\n",
      "       LogSoftmax-13                    [-1, 8]               0\n",
      "================================================================\n",
      "Total params: 9,176\n",
      "Trainable params: 9,176\n",
      "Non-trainable params: 0\n",
      "----------------------------------------------------------------\n",
      "Input size (MB): 0.05\n",
      "Forward/backward pass size (MB): 1.55\n",
      "Params size (MB): 0.04\n",
      "Estimated Total Size (MB): 1.63\n",
      "----------------------------------------------------------------\n"
     ]
    }
   ],
   "source": [
    "model = CNN()\n",
    "model.summary()"
   ]
  },
  {
   "cell_type": "code",
   "execution_count": 68,
   "id": "20b61428",
   "metadata": {},
   "outputs": [
    {
     "data": {
      "image/png": "[encoded data removed]",
      "text/plain": [
       "<Figure size 864x576 with 2 Axes>"
      ]
     },
     "metadata": {
      "needs_background": "light"
     },
     "output_type": "display_data"
    },
    {
     "name": "stdout",
     "output_type": "stream",
     "text": [
      "Accuracy\n",
      "\tacc              \t (min:    0.499, max:    0.733, cur:    0.725)\n",
      "Loss\n",
      "\tloss             \t (min:    0.730, max:    2.701, cur:    0.744)\n",
      "Done!\n"
     ]
    }
   ],
   "source": [
    "learning_rate = 0.001\n",
    "loss_fn = nn.NLLLoss().to(device)\n",
    "optimizer = torch.optim.AdamW(model.parameters(), lr=learning_rate)\n",
    "train_loss, test_loss, train_acc, test_acc = [], [], [], []\n",
    "\n",
    "epochs = 100\n",
    "plotlosses = PlotLosses()\n",
    "\n",
    "for t in range(epochs):\n",
    "    print(f\"Epoch {t+1}\\n-------------------------------\")\n",
    "    (train_acc, train_loss) = train(train_dataloader, model, loss_fn, optimizer)\n",
    "    plotlosses.update({'acc': train_acc, 'loss': train_loss})\n",
    "    plotlosses.send()\n",
    "print(\"Done!\")\n"
   ]
  },
  {
   "cell_type": "code",
   "execution_count": 71,
   "id": "2a52475a",
   "metadata": {},
   "outputs": [
    {
     "name": "stdout",
     "output_type": "stream",
     "text": [
      "The test loss is 1.1365822927061333\n",
      "The test accuracy is 63.267626990144045%\n"
     ]
    }
   ],
   "source": [
    "(test_acc, test_loss) = test(test_dataloader, model, loss_fn)\n",
    "print(f\"The test loss is {test_loss}\")\n",
    "print(f\"The test accuracy is {100 * test_acc}%\")"
   ]
  },
  {
   "cell_type": "code",
   "execution_count": null,
   "id": "58493237",
   "metadata": {},
   "outputs": [],
   "source": []
  }
 ],
 "metadata": {
  "kernelspec": {
   "display_name": "Vehicle Classification",
   "language": "python",
   "name": "vehicle_classification"
  },
  "language_info": {
   "codemirror_mode": {
    "name": "ipython",
    "version": 3
   },
   "file_extension": ".py",
   "mimetype": "text/x-python",
   "name": "python",
   "nbconvert_exporter": "python",
   "pygments_lexer": "ipython3",
   "version": "3.10.4"
  }
 },
 "nbformat": 4,
 "nbformat_minor": 5
}
